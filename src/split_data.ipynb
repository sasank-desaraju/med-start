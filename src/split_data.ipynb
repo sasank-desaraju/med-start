{
 "cells": [
  {
   "cell_type": "markdown",
   "metadata": {},
   "source": [
    "# Split your data into Train-Test-Validation splits\n",
    "## Store these splits in a CSV file in the data folder"
   ]
  }
 ],
 "metadata": {
  "language_info": {
   "name": "python"
  }
 },
 "nbformat": 4,
 "nbformat_minor": 2
}
