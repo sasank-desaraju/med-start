{
 "cells": [
  {
   "cell_type": "code",
   "execution_count": 1,
   "metadata": {},
   "outputs": [
    {
     "data": {
      "text/plain": [
       "'\\nSasank Desaraju\\n12/25/2023\\n\\nThis notebook is to play with different code modules and see how they work\\nThis is a repo about medical AI using Pytorch Lightning\\n'"
      ]
     },
     "execution_count": 1,
     "metadata": {},
     "output_type": "execute_result"
    }
   ],
   "source": [
    "\"\"\"\n",
    "Sasank Desaraju\n",
    "12/25/2023\n",
    "\n",
    "This notebook is to play with different code modules and see how they work\n",
    "This is a repo about medical AI using Pytorch Lightning\n",
    "\"\"\""
   ]
  },
  {
   "cell_type": "code",
   "execution_count": 9,
   "metadata": {},
   "outputs": [],
   "source": [
    "import numpy as np\n",
    "import pandas as pd\n",
    "import matplotlib.pyplot as plt\n",
    "import seaborn as sns\n",
    "import os\n",
    "import torch\n",
    "import torch.nn as nn\n",
    "import torch.nn.functional as F\n",
    "import pytorch_lightning as pl\n",
    "import lightning as L\n",
    "import monai"
   ]
  },
  {
   "cell_type": "code",
   "execution_count": 3,
   "metadata": {},
   "outputs": [],
   "source": [
    "# load and explore .npz file of image data\n",
    "data = np.load('../data/chestmnist.npz')"
   ]
  },
  {
   "cell_type": "code",
   "execution_count": 4,
   "metadata": {},
   "outputs": [
    {
     "name": "stdout",
     "output_type": "stream",
     "text": [
      "['train_images', 'val_images', 'test_images', 'train_labels', 'val_labels', 'test_labels']\n"
     ]
    }
   ],
   "source": [
    "# explore the np file of data. What fields does is contain?\n",
    "print(data.files)"
   ]
  },
  {
   "cell_type": "code",
   "execution_count": 5,
   "metadata": {},
   "outputs": [],
   "source": [
    "train_images = data['train_images']\n",
    "train_labels = data['train_labels']"
   ]
  },
  {
   "cell_type": "code",
   "execution_count": 14,
   "metadata": {},
   "outputs": [],
   "source": [
    "\n",
    "class ChestMNISTDataModule(L.LightningDataModule):\n",
    "    def __init__(self, data_dir: str = '../data', batch_size: int = 32, num_workers: int = 0, foo: int = 4):\n",
    "        super().__init__()\n",
    "        self.foo = foo\n",
    "        print(self.foo)\n",
    "        self.data_dir = data_dir\n",
    "        self.batch_size = batch_size\n",
    "        self.num_workers = num_workers\n",
    "        self.transform = monai.transforms.Compose(\n",
    "            [\n",
    "                #monai.transforms.LoadNiftid(keys=[\"image\", \"label\"]),\n",
    "                #monai.transforms.AddChanneld(keys=[\"image\", \"label\"]),\n",
    "                #monai.transforms.ScaleIntensityd(keys=[\"image\"]),\n",
    "                #monai.transforms.ToTensord(keys=[\"image\", \"label\"]),\n",
    "            ]\n",
    "        )\n",
    "    \n",
    "    def prepare_data(self):\n",
    "        # download, split, etc...\n",
    "        # monai.data.Dataset.from_json(\n",
    "        #     os.path.join(self.data_dir, \"dataset.json\"), \n",
    "        #     root_dir=self.data_dir, \n",
    "        #     transform=self.transform,\n",
    "        # )\n",
    "        return\n",
    "    \n",
    "    def setup(self, stage=None):\n",
    "        # make assignments here (val/train/test split)\n",
    "        # called on every process in DDP\n",
    "        # stage defines if we are at fit or test step\n",
    "        if stage == 'fit' or stage is None:\n",
    "            data = np.load(os.path.join(self.data_dir, 'chestmnist.npz'))\n",
    "            self.train_images = torch.from_numpy(data['train_images']).float()\n",
    "            self.train_labels = torch.from_numpy(data['train_labels']).long()\n",
    "            self.val_images = torch.from_numpy(data['val_images']).float()\n",
    "            self.val_labels = torch.from_numpy(data['val_labels']).long()\n",
    "        if stage == 'test' or stage is None:\n",
    "            data = np.load(os.path.join(self.data_dir, 'chestmnist.npz'))\n",
    "            self.test_images = torch.from_numpy(data['test_images']).float()\n",
    "            self.test_labels = torch.from_numpy(data['test_labels']).long()\n",
    "\n",
    "        \"\"\"\n",
    "        # Assign train/val datasets for use in dataloaders\n",
    "        chestmnist = monai.data.Dataset.from_json(\n",
    "            os.path.join(self.data_dir, \"dataset.json\"), \n",
    "            root_dir=self.data_dir, \n",
    "            transform=self.transform,\n",
    "        )\n",
    "        self.chestmnist_train, self.chestmnist_val, self.chestmnist_test = chestmnist.split(\n",
    "            [0.8, 0.1, 0.1], \n",
    "            shuffle=True, \n",
    "            seed=42,\n",
    "        )\n",
    "        \"\"\"\n",
    "    \n",
    "    def train_dataloader(self):\n",
    "        return torch.utils.data.DataLoader(\n",
    "            self.chestmnist_train, \n",
    "            batch_size=self.batch_size, \n",
    "            shuffle=True, \n",
    "            num_workers=self.num_workers,\n",
    "        )\n",
    "    \n",
    "    def val_dataloader(self):\n",
    "        return torch.utils.data.DataLoader(\n",
    "            self.chestmnist_val, \n",
    "            batch_size=self.batch_size, \n",
    "            shuffle=False, \n",
    "            num_workers=self.num_workers,\n",
    "        )\n",
    "    \n",
    "    def test_dataloader(self):\n",
    "        return torch.utils.data.DataLoader(\n",
    "            self.chestmnist_test, \n",
    "            batch_size=self.batch_size, \n",
    "            shuffle=False, \n",
    "            num_workers=self.num_workers,\n",
    "        )\n"
   ]
  },
  {
   "cell_type": "code",
   "execution_count": 17,
   "metadata": {},
   "outputs": [],
   "source": [
    "\n",
    "class ChestMNISTLitModel(L.LightningModule):\n",
    "    def __init__(self, lr=1e-3):\n",
    "        super().__init__()\n",
    "        self.save_hyperparameters()\n",
    "        self.lr = lr\n",
    "        self.loss = monai.losses.DiceLoss(sigmoid=True)\n",
    "        self.accuracy = monai.metrics.DiceMetric(include_background=False, reduction=\"mean\")\n",
    "        \n",
    "        # UNet model\n",
    "        self.model = monai.networks.nets.UNet(\n",
    "            spatial_dims=2,\n",
    "            in_channels=1,\n",
    "            out_channels=1,\n",
    "            channels=(16, 32, 64, 128, 256),\n",
    "            strides=(2, 2, 2, 2),\n",
    "            num_res_units=2,\n",
    "        )\n",
    "        \n",
    "    def forward(self, x):\n",
    "        # called with self(x)\n",
    "        return self.model(x)\n",
    "    \n",
    "    def configure_optimizers(self):\n",
    "        optimizer = torch.optim.Adam(self.parameters(), lr=self.lr)\n",
    "        return optimizer\n",
    "    \n",
    "    def training_step(self, train_batch, batch_idx):\n",
    "        x, y = train_batch\n",
    "        logits = self(x)\n",
    "        loss = self.loss(logits, y)\n",
    "        self.log('train_loss', loss)\n",
    "        return loss\n",
    "    \n",
    "    def validation_step(self, val_batch, batch_idx):\n",
    "        x, y = val_batch\n",
    "        logits = self(x)\n",
    "        loss = self.loss(logits, y)\n",
    "        self.log('val_loss', loss)\n",
    "        self.accuracy(y_pred=logits, y=y)\n",
    "        self.log('val_dice', self.accuracy, on_step=False, on_epoch=True, prog_bar=True)\n",
    "        return loss\n",
    "    \n",
    "    def test_step(self, test_batch, batch_idx):\n",
    "        x, y = test_batch\n",
    "        logits = self(x)\n",
    "        loss = self.loss(logits, y)\n",
    "        self.log('test_loss', loss)\n",
    "        self.accuracy(y_pred=logits, y=y)\n",
    "        self.log('test_dice', self.accuracy, on_step=False, on_epoch=True, prog_bar=True)\n",
    "        return loss"
   ]
  },
  {
   "cell_type": "code",
   "execution_count": 18,
   "metadata": {},
   "outputs": [
    {
     "name": "stdout",
     "output_type": "stream",
     "text": [
      "4\n"
     ]
    }
   ],
   "source": [
    "datamodule = ChestMNISTDataModule()\n",
    "model = ChestMNISTLitModel()"
   ]
  },
  {
   "cell_type": "code",
   "execution_count": null,
   "metadata": {},
   "outputs": [
    {
     "data": {
      "text/plain": [
       "array([0, 0, 0, 0, 0, 0, 0, 0, 0, 0, 0, 0, 0, 0], dtype=uint8)"
      ]
     },
     "execution_count": 16,
     "metadata": {},
     "output_type": "execute_result"
    }
   ],
   "source": [
    "# Find number of unique labels in training set\n",
    "n_classes = np.unique(train_labels)\n",
    "n_classes\n",
    "train_labels[0]\n",
    "#train_labels[0].shape"
   ]
  },
  {
   "cell_type": "code",
   "execution_count": null,
   "metadata": {},
   "outputs": [
    {
     "data": {
      "image/png": "[encoded data removed]",
      "text/plain": [
       "<Figure size 500x1000 with 10 Axes>"
      ]
     },
     "metadata": {},
     "output_type": "display_data"
    }
   ],
   "source": [
    "# print a few images from the training set\n",
    "# print them in a vertical grid\n",
    "fig, axes = plt.subplots(nrows=5, ncols=2, figsize=(5, 10))\n",
    "for i, ax in enumerate(axes.flatten()):\n",
    "    ax.imshow(train_images[i], cmap='gray')\n",
    "    ax.set(title=f\"Label: {train_labels[i]}\")\n",
    "    ax.axis('off')"
   ]
  },
  {
   "cell_type": "code",
   "execution_count": null,
   "metadata": {},
   "outputs": [],
   "source": [
    "# Make a Pytorch Lightning Module for ChestMNIST using a CNN\n",
    "class ChestMNISTLitModel(pl.LightningModule):\n",
    "    def __init__(self, channels=[32, 64, 128, 256], kernel_size=3, pool_size=2, lr=1e-3):\n",
    "        super().__init__()\n",
    "        self.save_hyperparameters()\n",
    "        self.channels = channels\n",
    "        self.kernel_size = kernel_size\n",
    "        self.pool_size = pool_size\n",
    "        self.lr = lr\n",
    "        self.loss = nn.CrossEntropyLoss()\n",
    "        self.accuracy = pl.metrics.Accuracy()\n",
    "        \n",
    "        # convolutional layers\n",
    "        self.convs = nn.Sequential(\n",
    "            nn.Conv2d(1, channels[0], kernel_size, padding=1),\n",
    "            nn.ReLU(),\n",
    "            nn.MaxPool2d(pool_size),\n",
    "            nn.Conv2d(channels[0], channels[1], kernel_size, padding=1),\n",
    "            nn.ReLU(),\n",
    "            nn.MaxPool2d(pool_size),\n",
    "            nn.Conv2d(channels[1], channels[2], kernel_size, padding=1),\n",
    "            nn.ReLU(),\n",
    "            nn.MaxPool2d(pool_size),\n",
    "            nn.Conv2d(channels[2], channels[3], kernel_size, padding=1),\n",
    "            nn.ReLU(),\n",
    "            nn.MaxPool2d(pool_size),\n",
    "        )\n",
    "        \n",
    "        # dense layers\n",
    "        self.linear_layers = nn.Sequential(\n",
    "            nn.Dropout(0.5),\n",
    "            nn.Linear(4096, 1024),\n",
    "            nn.ReLU(),\n",
    "            nn.Dropout(0.5),\n",
    "            nn.Linear(1024, 512),\n",
    "            nn.ReLU(),\n",
    "            nn.Dropout(0.5),\n",
    "            nn.Linear(512, 14),\n",
    "        )\n",
    "        \n",
    "    def forward(self, x):\n",
    "        # called with self(x)\n",
    "        x = self.convs(x)\n",
    "        x = torch.flatten(x, 1)\n",
    "        x = self.linear_layers(x)\n",
    "        return x\n",
    "    \n",
    "    def configure_optimizers(self):\n",
    "        optimizer = torch.optim.Adam(self.parameters(), lr=self.lr)\n",
    "        return optimizer\n",
    "    \n",
    "    def training_step(self, train_batch, batch_idx):\n",
    "        x, y = train_batch\n",
    "        logits = self(x)\n",
    "        loss = self.loss(logits, y)\n",
    "        self.log('train_loss', loss)\n",
    "        return loss\n",
    "    \n",
    "    def validation_step(self, val_batch, batch_idx):\n",
    "        x, y = val_batch\n",
    "        logits = self(x)\n",
    "        loss = self.loss(logits, y)\n",
    "        preds = torch.argmax(logits, dim=1)\n",
    "        self.log('val_loss', loss, prog_bar=True)\n",
    "        self.log('val_acc', self.accuracy(preds, y), prog_bar=True)\n",
    "        return loss\n",
    "    \n",
    "    def test_step(self, test_batch, batch_idx):\n",
    "        x, y = test_batch\n",
    "        logits = self(x)\n",
    "        loss = self.loss(logits, y)\n",
    "        preds = torch.argmax(logits, dim=1)\n",
    "        self.log('test_loss', loss, prog_bar=True)\n",
    "        self.log('test_acc', self.accuracy(preds, y), prog_bar=True)\n",
    "        return loss"
   ]
  }
 ],
 "metadata": {
  "kernelspec": {
   "display_name": "fistula",
   "language": "python",
   "name": "python3"
  },
  "language_info": {
   "codemirror_mode": {
    "name": "ipython",
    "version": 3
   },
   "file_extension": ".py",
   "mimetype": "text/x-python",
   "name": "python",
   "nbconvert_exporter": "python",
   "pygments_lexer": "ipython3",
   "version": "3.10.13"
  }
 },
 "nbformat": 4,
 "nbformat_minor": 2
}
