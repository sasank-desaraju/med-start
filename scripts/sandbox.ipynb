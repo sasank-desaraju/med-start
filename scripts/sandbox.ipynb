{
 "cells": [
  {
   "cell_type": "code",
   "execution_count": 1,
   "metadata": {},
   "outputs": [
    {
     "data": {
      "text/plain": [
       "'\\nSasank Desaraju\\n12/25/2023\\n\\nThis notebook is to play with different code modules and see how they work\\nThis is a repo about medical AI using Pytorch Lightning\\n'"
      ]
     },
     "execution_count": 1,
     "metadata": {},
     "output_type": "execute_result"
    }
   ],
   "source": [
    "\"\"\"\n",
    "Sasank Desaraju\n",
    "12/25/2023\n",
    "\n",
    "This notebook is to play with different code modules and see how they work\n",
    "This is a repo about medical AI using Pytorch Lightning\n",
    "\"\"\""
   ]
  },
  {
   "cell_type": "code",
   "execution_count": 2,
   "metadata": {},
   "outputs": [
    {
     "name": "stderr",
     "output_type": "stream",
     "text": [
      "/home/sasank/miniconda3/envs/fistula/lib/python3.10/site-packages/torchvision/io/image.py:13: UserWarning: Failed to load image Python extension: /home/sasank/miniconda3/envs/fistula/lib/python3.10/site-packages/torchvision/image.so: undefined symbol: _ZN3c106detail19maybe_wrap_dim_slowEllb\n",
      "  warn(f\"Failed to load image Python extension: {e}\")\n"
     ]
    }
   ],
   "source": [
    "import numpy as np\n",
    "import pandas as pd\n",
    "import matplotlib.pyplot as plt\n",
    "import seaborn as sns\n",
    "import os\n",
    "import torch\n",
    "import torch.nn as nn\n",
    "import torch.nn.functional as F\n",
    "import pytorch_lightning as pl"
   ]
  },
  {
   "cell_type": "code",
   "execution_count": 3,
   "metadata": {},
   "outputs": [],
   "source": [
    "# load and explore .npz file of image data\n",
    "data = np.load('../data/chestmnist.npz')"
   ]
  },
  {
   "cell_type": "code",
   "execution_count": 4,
   "metadata": {},
   "outputs": [
    {
     "name": "stdout",
     "output_type": "stream",
     "text": [
      "['train_images', 'val_images', 'test_images', 'train_labels', 'val_labels', 'test_labels']\n"
     ]
    }
   ],
   "source": [
    "# explore the np file of data. What fields does is contain?\n",
    "print(data.files)"
   ]
  },
  {
   "cell_type": "code",
   "execution_count": 6,
   "metadata": {},
   "outputs": [],
   "source": [
    "train_images = data['train_images']\n",
    "train_labels = data['train_labels']"
   ]
  },
  {
   "cell_type": "code",
   "execution_count": null,
   "metadata": {},
   "outputs": [],
   "source": [
    "# Create a Lightning DataModule for the ChestMNIST dataset\n",
    "class ChestMNISTDataModule(pl.LightningDataModule):\n",
    "    def __init__(self, data_dir: str = '../data', batch_size: int = 32):\n",
    "        super().__init__()\n",
    "        self.data_dir = data_dir\n",
    "        self.batch_size = batch_size\n",
    "\n",
    "    def prepare_data(self):\n",
    "        # download, split, etc...\n",
    "        # only called on 1 GPU/TPU in distributed\n",
    "        # The data is already downloaded and is at 'data/chestmnist.npz'\n",
    "    \n",
    "    def setup(self, stage=None):\n",
    "        # make assignments here (val/train/test split)\n",
    "        # called on every process in DDP\n",
    "        # stage defines if we are at fit or test step\n",
    "        if stage == 'fit' or stage is None:\n",
    "            data = np.load(os.path.join(self.data_dir, 'chestmnist.npz'))\n",
    "            self.train_images = torch.from_numpy(data['train_images']).float()\n",
    "            self.train_labels = torch.from_numpy(data['train_labels']).long()\n",
    "            self.val_images = torch.from_numpy(data['val_images']).float()\n",
    "            self.val_labels = torch.from_numpy(data['val_labels']).long()\n",
    "        if stage == 'test' or stage is None:\n",
    "            data = np.load(os.path.join(self.data_dir, 'chestmnist.npz'))\n",
    "            self.test_images = torch.from_numpy(data['test_images']).float()\n",
    "            self.test_labels = torch.from_numpy(data['test_labels']).long()\n",
    "        \n",
    "    def train_dataloader(self):\n",
    "        # return a training dataloader\n",
    "        return DataLoader(TensorDataset(self.train_images, self.train_labels), batch_size=self.batch_size)\n",
    "    \n",
    "    def val_dataloader(self):\n",
    "        # return a validation dataloader\n",
    "        return DataLoader(TensorDataset(self.val_images, self.val_labels), batch_size=self.batch_size)"
   ]
  }
 ],
 "metadata": {
  "kernelspec": {
   "display_name": "fistula",
   "language": "python",
   "name": "python3"
  },
  "language_info": {
   "codemirror_mode": {
    "name": "ipython",
    "version": 3
   },
   "file_extension": ".py",
   "mimetype": "text/x-python",
   "name": "python",
   "nbconvert_exporter": "python",
   "pygments_lexer": "ipython3",
   "version": "3.10.13"
  }
 },
 "nbformat": 4,
 "nbformat_minor": 2
}
