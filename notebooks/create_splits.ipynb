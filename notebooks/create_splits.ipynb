{
 "cells": [
  {
   "cell_type": "markdown",
   "metadata": {},
   "source": [
    "# Create Data Splits (Train, Validation, Test)\n",
    "\n",
    "This notebook is to guide you on splitting your data into training, validation, and test sets.\n",
    "A \"split\" is hereby defined as a named collection of a master dataset, and 3 disjoint subsets of that dataset: train, validation, and test.\n",
    "These are stored as 4 separate CSV files in a named folder in the `splits` directory. E.g. `splits/my_split/train.csv`, `splits/my_split/validation.csv`, `splits/my_split/test.csv`, and `splits/my_split/master.csv`.\n",
    "Each line of the CSV files contains multiple columns to hold both file names of volumes (e.g. CT scans) and also plaintext information such as the presence of a tumor (0 or 1).\n",
    "\n",
    "Keeping the master csv and naming each split allows us to keep track of the data used for a particular model checkpoint.\n",
    "This allows us to prune out bad/corrupted data points from the master set and not include them in any of the train/val/test datasets.\n",
    "Contaminated data does happen and can ruin a model if we are not careful.\n",
    "\n",
    "Image \"volumes\" refers to large data such as 3D CT images OR their corresponding, equally large, segmentation labels.\n",
    "With this system, these image volumes can be stored anywhere on the file system and the CSV holds only the path names relative to wherever the image directory is.\n",
    "We supply the image/label source directory for volumes in our configuration file (or .env file) so that our code (DataModule/Dataset) knows where to look.\n",
    "**note to self** - in the datamodule initialization, check that all paths are valid and that the files exist."
   ]
  }
 ],
 "metadata": {
  "language_info": {
   "name": "python"
  }
 },
 "nbformat": 4,
 "nbformat_minor": 2
}
