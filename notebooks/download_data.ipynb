{
 "cells": [
  {
   "cell_type": "markdown",
   "metadata": {},
   "source": [
    "# Download Dataset\n",
    "\n",
    "**You will likely not use this notebook if you are creating your research project with your own new data.**\n",
    "\n",
    "This is for downloading a dataset from the internet, as for our example with the [MedMNIST](https://zenodo.org/records/10519652) dataset.\n",
    "Your dataset will likely be uploaded from wherever you collected your data."
   ]
  },
  {
   "cell_type": "code",
   "execution_count": 2,
   "metadata": {},
   "outputs": [
    {
     "name": "stdout",
     "output_type": "stream",
     "text": [
      "/blue/prismap-ai-core/sasank.desaraju/projects/med-start/notebooks\n"
     ]
    }
   ],
   "source": [
    "!pwd"
   ]
  },
  {
   "cell_type": "markdown",
   "metadata": {},
   "source": [
    "Let's first set up where our data will be downloaded to.\n",
    "We're going to use a clever package called `rootutils` to help us with this.\n",
    "Let's (1) ensure that the empty file \".project-root\" is in the root of our project, and (2) add our chosen data directory to a new \".env\" file.\n",
    "For this second part, copy the file \".env.example\" to \".env\" and add the path to your data directory.\n"
   ]
  },
  {
   "cell_type": "code",
   "execution_count": 10,
   "metadata": {},
   "outputs": [
    {
     "name": "stdout",
     "output_type": "stream",
     "text": [
      "current file is  /blue/prismap-ai-core/sasank.desaraju/projects/med-start\n",
      "/blue/prismap-ai-core/sasank.desaraju/projects/med-start\n",
      "/blue/prismap-ai-core/sasank.desaraju/projects/med-start/data/\n"
     ]
    }
   ],
   "source": [
    "import rootutils\n",
    "import os\n",
    "# print(\"current file is \", __file__)\n",
    "print(\"current file is \", os.getcwd())\n",
    "root = rootutils.find_root(search_from=os.getcwd(), indicator=\".project-root\")\n",
    "print(root)\n",
    "root = rootutils.setup_root(search_from=os.getcwd(), indicator=\".project-root\", dotenv=True, pythonpath=True, cwd=True)\n",
    "# Print the environment variable DATA_DIR\n",
    "print(os.environ[\"DATA_DIR\"])"
   ]
  },
  {
   "cell_type": "code",
   "execution_count": 3,
   "metadata": {},
   "outputs": [
    {
     "ename": "NameError",
     "evalue": "name 'os' is not defined",
     "output_type": "error",
     "traceback": [
      "\u001b[0;31m---------------------------------------------------------------------------\u001b[0m",
      "\u001b[0;31mNameError\u001b[0m                                 Traceback (most recent call last)",
      "Cell \u001b[0;32mIn[3], line 7\u001b[0m\n\u001b[1;32m      4\u001b[0m resource \u001b[38;5;241m=\u001b[39m \u001b[38;5;124m\"\u001b[39m\u001b[38;5;124mhttps://msd-for-monai.s3-us-west-2.amazonaws.com/Task09_Spleen.tar\u001b[39m\u001b[38;5;124m\"\u001b[39m\n\u001b[1;32m      5\u001b[0m md5 \u001b[38;5;241m=\u001b[39m \u001b[38;5;124m\"\u001b[39m\u001b[38;5;124m410d4a301da4e5b2f6f86ec3ddba524e\u001b[39m\u001b[38;5;124m\"\u001b[39m\n\u001b[0;32m----> 7\u001b[0m compressed_file \u001b[38;5;241m=\u001b[39m \u001b[43mos\u001b[49m\u001b[38;5;241m.\u001b[39mpath\u001b[38;5;241m.\u001b[39mjoin(\u001b[38;5;28mself\u001b[39m\u001b[38;5;241m.\u001b[39mroot_dir, \u001b[38;5;124m\"\u001b[39m\u001b[38;5;124mTask09_Spleen.tar\u001b[39m\u001b[38;5;124m\"\u001b[39m)\n\u001b[1;32m      8\u001b[0m \u001b[38;5;28;01mif\u001b[39;00m \u001b[38;5;129;01mnot\u001b[39;00m os\u001b[38;5;241m.\u001b[39mpath\u001b[38;5;241m.\u001b[39mexists(\u001b[38;5;28mself\u001b[39m\u001b[38;5;241m.\u001b[39mdata_dir):\n\u001b[1;32m      9\u001b[0m     \u001b[38;5;66;03m# print the directory it will be downloaded to\u001b[39;00m\n\u001b[1;32m     10\u001b[0m     \u001b[38;5;28mprint\u001b[39m(\u001b[38;5;124mf\u001b[39m\u001b[38;5;124m\"\u001b[39m\u001b[38;5;124mData will be downloaded to \u001b[39m\u001b[38;5;132;01m{\u001b[39;00m\u001b[38;5;28mself\u001b[39m\u001b[38;5;241m.\u001b[39mdata_dir\u001b[38;5;132;01m}\u001b[39;00m\u001b[38;5;124m\"\u001b[39m)\n",
      "\u001b[0;31mNameError\u001b[0m: name 'os' is not defined"
     ]
    }
   ],
   "source": [
    "import monai\n",
    "import os\n",
    "\n",
    "# download the data if it's not already downloaded\n",
    "resource = \"https://msd-for-monai.s3-us-west-2.amazonaws.com/Task09_Spleen.tar\"\n",
    "md5 = \"410d4a301da4e5b2f6f86ec3ddba524e\"\n",
    "DATA_DIR = ''\n",
    "\n",
    "compressed_file = os.path.join(self.root_dir, \"Task09_Spleen.tar\")\n",
    "if not os.path.exists(self.data_dir):\n",
    "    # print the directory it will be downloaded to\n",
    "    print(f\"Data will be downloaded to {self.data_dir}\")\n",
    "    monai.apps.download_and_extract(resource, compressed_file, self.root_dir, md5)"
   ]
  },
  {
   "cell_type": "code",
   "execution_count": 1,
   "metadata": {},
   "outputs": [
    {
     "name": "stdout",
     "output_type": "stream",
     "text": [
      "--2024-07-09 21:03:35--  https://zenodo.org/records/10519652/files/chestmnist_64.npz\n",
      "Resolving zenodo.org (zenodo.org)... 2001:1458:d00:9::100:195, 2001:1458:d00:3b::100:200, 2001:1458:d00:3a::100:33a, ...\n",
      "Connecting to zenodo.org (zenodo.org)|2001:1458:d00:9::100:195|:443... connected.\n",
      "HTTP request sent, awaiting response... 200 OK\n",
      "Length: 401604127 (383M) [application/octet-stream]\n",
      "Saving to: ‘../data/chestmnist_64.npz’\n",
      "\n",
      "chestmnist_64.npz   100%[===================>] 383.00M  14.1MB/s    in 29s     \n",
      "\n",
      "2024-07-09 21:04:05 (13.3 MB/s) - ‘../data/chestmnist_64.npz’ saved [401604127/401604127]\n",
      "\n"
     ]
    }
   ],
   "source": [
    "# Running this block will download the adrenalmnist3.npz to the data folder, assuming you are in the med-start directory (the \"root\" of the project)\n",
    "# TODO: Choose a better dataset. This is 3D and we should just stick with 2D for this\n",
    "!wget https://zenodo.org/records/10519652/files/chestmnist_64.npz -P ../data"
   ]
  },
  {
   "cell_type": "code",
   "execution_count": 3,
   "metadata": {},
   "outputs": [],
   "source": [
    "# Open the .npz file in the data folder\n",
    "import numpy as np\n",
    "data = np.load('../data/chestmnist_64.npz')"
   ]
  },
  {
   "cell_type": "code",
   "execution_count": 2,
   "metadata": {},
   "outputs": [
    {
     "name": "stdout",
     "output_type": "stream",
     "text": [
      "['train_images', 'train_labels', 'val_images', 'val_labels', 'test_images', 'test_labels']\n"
     ]
    }
   ],
   "source": [
    "# Check the keys in the .npz file\n",
    "print(data.files)"
   ]
  },
  {
   "cell_type": "code",
   "execution_count": 4,
   "metadata": {},
   "outputs": [
    {
     "data": {
      "image/png": "[encoded data removed]",
      "text/plain": [
       "<Figure size 1000x1000 with 3 Axes>"
      ]
     },
     "metadata": {},
     "output_type": "display_data"
    }
   ],
   "source": [
    "# Show some images from the dataset and their labels\n",
    "import matplotlib.pyplot as plt\n",
    "plt.figure(figsize=(10, 10))\n",
    "for i in range(3):\n",
    "    plt.subplot(3, 3, i + 1)\n",
    "    plt.imshow(data['train_images'][i], cmap='gray', interpolation='none')\n",
    "    plt.title(\"Class {}\".format(data['train_labels'][i]))\n",
    "    \n",
    "plt.show()"
   ]
  },
  {
   "cell_type": "code",
   "execution_count": 5,
   "metadata": {},
   "outputs": [
    {
     "name": "stdout",
     "output_type": "stream",
     "text": [
      "[0 0 0 0 0 0 0 0 0 0 0 0 0 0]\n",
      "[0 0 0 0 0 0 0 0 0 0 0 0 0 0]\n",
      "[0 0 0 0 0 0 0 0 0 0 0 0 0 0]\n",
      "[0 0 0 0 0 0 0 0 0 0 0 0 0 0]\n",
      "[0 0 0 0 0 0 0 0 0 0 0 0 0 0]\n",
      "[0 0 0 1 0 1 0 0 0 0 0 0 0 0]\n",
      "[0 0 0 1 0 0 0 1 1 0 1 0 0 0]\n",
      "[0 0 0 0 0 0 0 1 0 0 0 0 0 0]\n",
      "[0 0 1 1 0 0 0 0 0 0 0 0 0 0]\n",
      "[0 0 0 0 0 0 0 0 0 0 0 0 0 0]\n"
     ]
    },
    {
     "ename": "KeyError",
     "evalue": "'class_names is not a file in the archive'",
     "output_type": "error",
     "traceback": [
      "\u001b[0;31m---------------------------------------------------------------------------\u001b[0m",
      "\u001b[0;31mKeyError\u001b[0m                                  Traceback (most recent call last)",
      "Cell \u001b[0;32mIn[5], line 7\u001b[0m\n\u001b[1;32m      3\u001b[0m     \u001b[38;5;28mprint\u001b[39m(data[\u001b[38;5;124m'\u001b[39m\u001b[38;5;124mtrain_labels\u001b[39m\u001b[38;5;124m'\u001b[39m][i])\n\u001b[1;32m      5\u001b[0m \u001b[38;5;66;03m# Are there keys about what the labels mean?\u001b[39;00m\n\u001b[1;32m      6\u001b[0m \u001b[38;5;66;03m# Yes, there are keys for the class names\u001b[39;00m\n\u001b[0;32m----> 7\u001b[0m \u001b[38;5;28mprint\u001b[39m(\u001b[43mdata\u001b[49m\u001b[43m[\u001b[49m\u001b[38;5;124;43m'\u001b[39;49m\u001b[38;5;124;43mclass_names\u001b[39;49m\u001b[38;5;124;43m'\u001b[39;49m\u001b[43m]\u001b[49m)\n",
      "File \u001b[0;32m/blue/aiinmedicine/share/conda_envs/start/lib/python3.10/site-packages/numpy/lib/npyio.py:263\u001b[0m, in \u001b[0;36mNpzFile.__getitem__\u001b[0;34m(self, key)\u001b[0m\n\u001b[1;32m    261\u001b[0m         \u001b[38;5;28;01mreturn\u001b[39;00m \u001b[38;5;28mself\u001b[39m\u001b[38;5;241m.\u001b[39mzip\u001b[38;5;241m.\u001b[39mread(key)\n\u001b[1;32m    262\u001b[0m \u001b[38;5;28;01melse\u001b[39;00m:\n\u001b[0;32m--> 263\u001b[0m     \u001b[38;5;28;01mraise\u001b[39;00m \u001b[38;5;167;01mKeyError\u001b[39;00m(\u001b[38;5;124mf\u001b[39m\u001b[38;5;124m\"\u001b[39m\u001b[38;5;132;01m{\u001b[39;00mkey\u001b[38;5;132;01m}\u001b[39;00m\u001b[38;5;124m is not a file in the archive\u001b[39m\u001b[38;5;124m\"\u001b[39m)\n",
      "\u001b[0;31mKeyError\u001b[0m: 'class_names is not a file in the archive'"
     ]
    }
   ],
   "source": [
    "# Print the first few labels\n",
    "for i in range(10):\n",
    "    print(data['train_labels'][i])\n",
    "\n",
    "# Are there keys about what the labels mean?\n",
    "# Yes, there are keys for the class names\n",
    "print(data['class_names'])"
   ]
  },
  {
   "cell_type": "code",
   "execution_count": 6,
   "metadata": {},
   "outputs": [
    {
     "name": "stdout",
     "output_type": "stream",
     "text": [
      "uint8\n",
      "(64, 64)\n",
      "uint8\n"
     ]
    }
   ],
   "source": [
    "# Check the datatype of train_images\n",
    "print(data['train_images'][0].dtype)\n",
    "\n",
    "print(data['train_images'][0].shape)\n",
    "\n",
    "print(data['train_labels'][0].dtype)"
   ]
  },
  {
   "cell_type": "code",
   "execution_count": null,
   "metadata": {},
   "outputs": [],
   "source": []
  }
 ],
 "metadata": {
  "kernelspec": {
   "display_name": "Python 3",
   "language": "python",
   "name": "python3"
  },
  "language_info": {
   "codemirror_mode": {
    "name": "ipython",
    "version": 3
   },
   "file_extension": ".py",
   "mimetype": "text/x-python",
   "name": "python",
   "nbconvert_exporter": "python",
   "pygments_lexer": "ipython3",
   "version": "3.10.14"
  }
 },
 "nbformat": 4,
 "nbformat_minor": 2
}
