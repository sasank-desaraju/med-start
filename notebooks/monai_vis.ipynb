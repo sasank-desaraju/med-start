{
 "cells": [
  {
   "cell_type": "markdown",
   "metadata": {},
   "source": [
    "The goal of this notebook is to provide a testbed for testing all of your MONAI transforms.\n",
    "Input a DataModule (with transforms) and LightningModule, and the notebook will test val_load, train_load, and test_load.\n",
    "It will run a random instance of the model on the data, and run val_image_post and val_label_post on the output before printing it out.\n",
    "It will also test out any other transforms you want to test out."
   ]
  }
 ],
 "metadata": {
  "language_info": {
   "name": "python"
  }
 },
 "nbformat": 4,
 "nbformat_minor": 2
}
